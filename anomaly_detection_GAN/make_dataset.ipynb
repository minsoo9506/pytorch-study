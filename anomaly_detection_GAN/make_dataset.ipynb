{
 "cells": [
  {
   "cell_type": "code",
   "execution_count": 1,
   "source": [
    "import os\r\n",
    "import urllib.request\r\n",
    "import zipfile\r\n",
    "import tarfile\r\n",
    "\r\n",
    "import matplotlib.pyplot as plt\r\n",
    "%matplotlib inline\r\n",
    "from PIL import Image\r\n",
    "import numpy as np"
   ],
   "outputs": [],
   "metadata": {}
  },
  {
   "cell_type": "code",
   "execution_count": 2,
   "source": [
    "data_dir = \"./data/\"\r\n",
    "if not os.path.exists(data_dir):\r\n",
    "    os.mkdir(data_dir)"
   ],
   "outputs": [],
   "metadata": {}
  },
  {
   "cell_type": "code",
   "execution_count": 4,
   "source": [
    "from sklearn.datasets import fetch_openml\r\n",
    "\r\n",
    "mnist = fetch_openml('mnist_784', version=1, data_home=\"./data/\", as_frame=False)  "
   ],
   "outputs": [],
   "metadata": {}
  },
  {
   "cell_type": "code",
   "execution_count": 5,
   "source": [
    "X = mnist.data\r\n",
    "y = mnist.target"
   ],
   "outputs": [],
   "metadata": {}
  },
  {
   "cell_type": "code",
   "execution_count": 6,
   "source": [
    "data_dir_path = \"./data/img_78/\"\r\n",
    "if not os.path.exists(data_dir_path):\r\n",
    "    os.mkdir(data_dir_path)"
   ],
   "outputs": [],
   "metadata": {}
  },
  {
   "cell_type": "code",
   "execution_count": 10,
   "source": [
    "count7=0\r\n",
    "count8=0\r\n",
    "max_num=200 \r\n",
    "\r\n",
    "for i in range(len(X)):\r\n",
    "    \r\n",
    "    if (y[i] is \"7\") and (count7<max_num):\r\n",
    "        file_path=\"./data/img_78/img_7_\"+str(count7)+\".jpg\"\r\n",
    "        im_f=(X[i].reshape(28, 28))  \r\n",
    "        pil_img_f = Image.fromarray(im_f.astype(np.uint8)) \r\n",
    "        pil_img_f = pil_img_f.resize((64, 64), Image.BICUBIC)  \r\n",
    "        pil_img_f.save(file_path)\r\n",
    "        count7+=1 \r\n",
    "    \r\n",
    "    if (y[i] is \"8\") and (count8<max_num):\r\n",
    "        file_path=\"./data/img_78/img_8_\"+str(count8)+\".jpg\"\r\n",
    "        im_f=(X[i].reshape(28, 28))  \r\n",
    "        pil_img_f = Image.fromarray(im_f.astype(np.uint8))  \r\n",
    "        pil_img_f = pil_img_f.resize((64, 64), Image.BICUBIC) \r\n",
    "        pil_img_f.save(file_path)\r\n",
    "        count8+=1\r\n",
    "        \r\n",
    "    if (count7>=max_num) and (count8>=max_num):\r\n",
    "        break"
   ],
   "outputs": [
    {
     "output_type": "stream",
     "name": "stderr",
     "text": [
      "<>:7: SyntaxWarning: \"is\" with a literal. Did you mean \"==\"?\n",
      "<>:15: SyntaxWarning: \"is\" with a literal. Did you mean \"==\"?\n",
      "<>:7: SyntaxWarning: \"is\" with a literal. Did you mean \"==\"?\n",
      "<>:15: SyntaxWarning: \"is\" with a literal. Did you mean \"==\"?\n",
      "<ipython-input-10-152b749ba571>:7: SyntaxWarning: \"is\" with a literal. Did you mean \"==\"?\n",
      "  if (y[i] is \"7\") and (count7<max_num):\n",
      "<ipython-input-10-152b749ba571>:15: SyntaxWarning: \"is\" with a literal. Did you mean \"==\"?\n",
      "  if (y[i] is \"8\") and (count8<max_num):\n"
     ]
    }
   ],
   "metadata": {}
  },
  {
   "cell_type": "code",
   "execution_count": 11,
   "source": [
    "data_dir_path = \"./data/test/\"\r\n",
    "if not os.path.exists(data_dir_path):\r\n",
    "    os.mkdir(data_dir_path)"
   ],
   "outputs": [],
   "metadata": {}
  },
  {
   "cell_type": "code",
   "execution_count": 12,
   "source": [
    "i_start = i+1\r\n",
    "print(i_start)"
   ],
   "outputs": [
    {
     "output_type": "stream",
     "name": "stdout",
     "text": [
      "2244\n"
     ]
    }
   ],
   "metadata": {}
  },
  {
   "cell_type": "code",
   "execution_count": 13,
   "source": [
    "count2=0\r\n",
    "count7=0\r\n",
    "count8=0\r\n",
    "max_num=5 \r\n",
    "\r\n",
    "for i in range(i_start,len(X)):\r\n",
    "    if (y[i] is \"2\") and (count2<max_num):\r\n",
    "        file_path=\"./data/test/img_2_\"+str(count2)+\".jpg\"\r\n",
    "        im_f=(X[i].reshape(28, 28))  \r\n",
    "        pil_img_f = Image.fromarray(im_f.astype(np.uint8)) \r\n",
    "        pil_img_f = pil_img_f.resize((64, 64), Image.BICUBIC)  \r\n",
    "        pil_img_f.save(file_path) \r\n",
    "        count2+=1\r\n",
    "    \r\n",
    "    if (y[i] is \"7\") and (count7<max_num):\r\n",
    "        file_path=\"./data/test/img_7_\"+str(count7)+\".jpg\"\r\n",
    "        im_f=(X[i].reshape(28, 28)) \r\n",
    "        pil_img_f = Image.fromarray(im_f.astype(np.uint8))  \r\n",
    "        pil_img_f = pil_img_f.resize((64, 64), Image.BICUBIC) \r\n",
    "        pil_img_f.save(file_path) \r\n",
    "        count7+=1 \r\n",
    "    \r\n",
    "    if (y[i] is \"8\") and (count8<max_num):\r\n",
    "        file_path=\"./data/test/img_8_\"+str(count8)+\".jpg\"\r\n",
    "        im_f=(X[i].reshape(28, 28))  \r\n",
    "        pil_img_f = Image.fromarray(im_f.astype(np.uint8)) \r\n",
    "        pil_img_f = pil_img_f.resize((64, 64), Image.BICUBIC)  \r\n",
    "        pil_img_f.save(file_path)\r\n",
    "        count8+=1"
   ],
   "outputs": [
    {
     "output_type": "stream",
     "name": "stderr",
     "text": [
      "<>:10: SyntaxWarning: \"is\" with a literal. Did you mean \"==\"?\n",
      "<>:19: SyntaxWarning: \"is\" with a literal. Did you mean \"==\"?\n",
      "<>:28: SyntaxWarning: \"is\" with a literal. Did you mean \"==\"?\n",
      "<>:10: SyntaxWarning: \"is\" with a literal. Did you mean \"==\"?\n",
      "<>:19: SyntaxWarning: \"is\" with a literal. Did you mean \"==\"?\n",
      "<>:28: SyntaxWarning: \"is\" with a literal. Did you mean \"==\"?\n",
      "<ipython-input-13-5fc8448560d2>:10: SyntaxWarning: \"is\" with a literal. Did you mean \"==\"?\n",
      "  if (y[i] is \"2\") and (count2<max_num):\n",
      "<ipython-input-13-5fc8448560d2>:19: SyntaxWarning: \"is\" with a literal. Did you mean \"==\"?\n",
      "  if (y[i] is \"7\") and (count7<max_num):\n",
      "<ipython-input-13-5fc8448560d2>:28: SyntaxWarning: \"is\" with a literal. Did you mean \"==\"?\n",
      "  if (y[i] is \"8\") and (count8<max_num):\n"
     ]
    }
   ],
   "metadata": {}
  },
  {
   "cell_type": "code",
   "execution_count": 14,
   "source": [
    "data_dir_path = \"./data/img_78_28size/\"\r\n",
    "if not os.path.exists(data_dir_path):\r\n",
    "    os.mkdir(data_dir_path)"
   ],
   "outputs": [],
   "metadata": {}
  },
  {
   "cell_type": "code",
   "execution_count": 15,
   "source": [
    "count7=0\r\n",
    "count8=0\r\n",
    "max_num=200\r\n",
    "\r\n",
    "for i in range(len(X)):\r\n",
    "    \r\n",
    "    if (y[i] is \"7\") and (count7<max_num):\r\n",
    "        file_path=\"./data/img_78_28size/img_7_\"+str(count7)+\".jpg\"\r\n",
    "        im_f=(X[i].reshape(28, 28)) \r\n",
    "        pil_img_f = Image.fromarray(im_f.astype(np.uint8))\r\n",
    "        pil_img_f.save(file_path)\r\n",
    "        count7+=1 \r\n",
    "    \r\n",
    "    if (y[i] is \"8\") and (count8<max_num):\r\n",
    "        file_path=\"./data/img_78_28size/img_8_\"+str(count8)+\".jpg\"\r\n",
    "        im_f=(X[i].reshape(28, 28))\r\n",
    "        pil_img_f = Image.fromarray(im_f.astype(np.uint8))\r\n",
    "        pil_img_f.save(file_path)\r\n",
    "        count8+=1\r\n",
    "    \r\n",
    "    if (count7>=max_num) and (count8>=max_num):\r\n",
    "        break"
   ],
   "outputs": [
    {
     "output_type": "stream",
     "name": "stderr",
     "text": [
      "<>:9: SyntaxWarning: \"is\" with a literal. Did you mean \"==\"?\n",
      "<>:17: SyntaxWarning: \"is\" with a literal. Did you mean \"==\"?\n",
      "<>:9: SyntaxWarning: \"is\" with a literal. Did you mean \"==\"?\n",
      "<>:17: SyntaxWarning: \"is\" with a literal. Did you mean \"==\"?\n",
      "<ipython-input-15-76f5afb23293>:9: SyntaxWarning: \"is\" with a literal. Did you mean \"==\"?\n",
      "  if (y[i] is \"7\") and (count7<max_num):\n",
      "<ipython-input-15-76f5afb23293>:17: SyntaxWarning: \"is\" with a literal. Did you mean \"==\"?\n",
      "  if (y[i] is \"8\") and (count8<max_num):\n"
     ]
    }
   ],
   "metadata": {}
  },
  {
   "cell_type": "code",
   "execution_count": 16,
   "source": [
    "data_dir_path = \"./data/test_28size/\"\r\n",
    "if not os.path.exists(data_dir_path):\r\n",
    "    os.mkdir(data_dir_path)\r\n",
    "\r\n",
    "i_start = i+1\r\n",
    "print(i_start)"
   ],
   "outputs": [
    {
     "output_type": "stream",
     "name": "stdout",
     "text": [
      "2244\n"
     ]
    }
   ],
   "metadata": {}
  },
  {
   "cell_type": "code",
   "execution_count": 17,
   "source": [
    "count2=0\r\n",
    "count7=0\r\n",
    "count8=0\r\n",
    "max_num=5  \r\n",
    "\r\n",
    "for i in range(i_start,len(X)): \r\n",
    "    \r\n",
    "    if (y[i] is \"2\") and (count2<max_num):\r\n",
    "        file_path=\"./data/test_28size/img_2_\"+str(count2)+\".jpg\"\r\n",
    "        im_f=(X[i].reshape(28, 28))\r\n",
    "        pil_img_f = Image.fromarray(im_f.astype(np.uint8))\r\n",
    "        pil_img_f.save(file_path)\r\n",
    "        count2+=1 \r\n",
    "    \r\n",
    "    if (y[i] is \"7\") and (count7<max_num):\r\n",
    "        file_path=\"./data/test_28size/img_7_\"+str(count7)+\".jpg\"\r\n",
    "        im_f=(X[i].reshape(28, 28))\r\n",
    "        pil_img_f = Image.fromarray(im_f.astype(np.uint8))\r\n",
    "        pil_img_f.save(file_path)\r\n",
    "        count7+=1 \r\n",
    "    \r\n",
    "    if (y[i] is \"8\") and (count8<max_num):\r\n",
    "        file_path=\"./data/test_28size/img_8_\"+str(count8)+\".jpg\"\r\n",
    "        im_f=(X[i].reshape(28, 28))\r\n",
    "        pil_img_f = Image.fromarray(im_f.astype(np.uint8))\r\n",
    "        pil_img_f.save(file_path)\r\n",
    "        count8+=1"
   ],
   "outputs": [
    {
     "output_type": "stream",
     "name": "stderr",
     "text": [
      "<>:10: SyntaxWarning: \"is\" with a literal. Did you mean \"==\"?\n",
      "<>:18: SyntaxWarning: \"is\" with a literal. Did you mean \"==\"?\n",
      "<>:26: SyntaxWarning: \"is\" with a literal. Did you mean \"==\"?\n",
      "<>:10: SyntaxWarning: \"is\" with a literal. Did you mean \"==\"?\n",
      "<>:18: SyntaxWarning: \"is\" with a literal. Did you mean \"==\"?\n",
      "<>:26: SyntaxWarning: \"is\" with a literal. Did you mean \"==\"?\n",
      "<ipython-input-17-c17ba25a71e4>:10: SyntaxWarning: \"is\" with a literal. Did you mean \"==\"?\n",
      "  if (y[i] is \"2\") and (count2<max_num):\n",
      "<ipython-input-17-c17ba25a71e4>:18: SyntaxWarning: \"is\" with a literal. Did you mean \"==\"?\n",
      "  if (y[i] is \"7\") and (count7<max_num):\n",
      "<ipython-input-17-c17ba25a71e4>:26: SyntaxWarning: \"is\" with a literal. Did you mean \"==\"?\n",
      "  if (y[i] is \"8\") and (count8<max_num):\n"
     ]
    }
   ],
   "metadata": {}
  }
 ],
 "metadata": {
  "orig_nbformat": 4,
  "language_info": {
   "name": "python",
   "version": "3.8.3",
   "mimetype": "text/x-python",
   "codemirror_mode": {
    "name": "ipython",
    "version": 3
   },
   "pygments_lexer": "ipython3",
   "nbconvert_exporter": "python",
   "file_extension": ".py"
  },
  "kernelspec": {
   "name": "python3",
   "display_name": "Python 3.8.3 64-bit ('pytorch': conda)"
  },
  "interpreter": {
   "hash": "4829241e38f97ce9549fd9dd142f37034ca40da852944784ae6a4626739d5593"
  }
 },
 "nbformat": 4,
 "nbformat_minor": 2
}