{
 "cells": [
  {
   "cell_type": "markdown",
   "source": [
    "## 데이터 setup"
   ],
   "metadata": {}
  },
  {
   "cell_type": "code",
   "execution_count": 4,
   "source": [
    "import os\r\n",
    "import urllib.request\r\n",
    "import zipfile"
   ],
   "outputs": [],
   "metadata": {}
  },
  {
   "cell_type": "code",
   "execution_count": 2,
   "source": [
    "data_dir = \"./data/\"\r\n",
    "if not os.path.exists(data_dir):\r\n",
    "    os.mkdir(data_dir)"
   ],
   "outputs": [],
   "metadata": {}
  },
  {
   "cell_type": "code",
   "execution_count": 5,
   "source": [
    "data_dir"
   ],
   "outputs": [
    {
     "output_type": "execute_result",
     "data": {
      "text/plain": [
       "'./data/'"
      ]
     },
     "metadata": {},
     "execution_count": 5
    }
   ],
   "metadata": {}
  },
  {
   "cell_type": "code",
   "execution_count": 3,
   "source": [
    "url = \"https://s3.amazonaws.com/deep-learning-models/image-models/imagenet_class_index.json\"\r\n",
    "save_path = os.path.join(data_dir, \"imagenet_class_index.json\")\r\n",
    "\r\n",
    "if not os.path.exists(save_path):\r\n",
    "    urllib.request.urlretrieve(url, save_path)"
   ],
   "outputs": [],
   "metadata": {}
  },
  {
   "cell_type": "code",
   "execution_count": 6,
   "source": [
    "url = \"https://download.pytorch.org/tutorial/hymenoptera_data.zip\"\r\n",
    "save_path = os.path.join(data_dir, \"hymenoptera_data.zip\")\r\n",
    "\r\n",
    "if not os.path.exists(save_path):\r\n",
    "    urllib.request.urlretrieve(url, save_path)\r\n",
    "\r\n",
    "\r\n",
    "    zip = zipfile.ZipFile(save_path)\r\n",
    "    zip.extractall(data_dir)  \r\n",
    "    zip.close()  \r\n",
    "\r\n",
    "    os.remove(save_path)"
   ],
   "outputs": [],
   "metadata": {}
  }
 ],
 "metadata": {
  "orig_nbformat": 4,
  "language_info": {
   "name": "python",
   "version": "3.8.3",
   "mimetype": "text/x-python",
   "codemirror_mode": {
    "name": "ipython",
    "version": 3
   },
   "pygments_lexer": "ipython3",
   "nbconvert_exporter": "python",
   "file_extension": ".py"
  },
  "kernelspec": {
   "name": "python3",
   "display_name": "Python 3.8.3 64-bit ('pytorch': conda)"
  },
  "interpreter": {
   "hash": "4829241e38f97ce9549fd9dd142f37034ca40da852944784ae6a4626739d5593"
  }
 },
 "nbformat": 4,
 "nbformat_minor": 2
}